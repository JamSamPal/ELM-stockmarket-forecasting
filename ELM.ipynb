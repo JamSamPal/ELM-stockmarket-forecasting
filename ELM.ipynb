{
 "cells": [
  {
   "cell_type": "markdown",
   "id": "bf248989-bb42-4516-bcbf-bf3c9008245c",
   "metadata": {},
   "source": [
    "# Basic ELM stock forecasting"
   ]
  },
  {
   "cell_type": "code",
   "execution_count": 1,
   "id": "be752270-b0ee-4124-827b-d89239201ccf",
   "metadata": {},
   "outputs": [],
   "source": [
    "# importing Libraries\n",
    "import pandas as pd\n",
    "import numpy as np\n",
    "import matplotlib.pyplot as plt\n",
    "import math\n",
    "from scipy.linalg import pinv\n",
    "from sklearn.metrics import mean_squared_error\n"
   ]
  },
  {
   "cell_type": "code",
   "execution_count": 2,
   "id": "1bf288a9-172a-4ef7-8698-597510aeee75",
   "metadata": {},
   "outputs": [
    {
     "data": {
      "text/html": [
       "<div>\n",
       "<style scoped>\n",
       "    .dataframe tbody tr th:only-of-type {\n",
       "        vertical-align: middle;\n",
       "    }\n",
       "\n",
       "    .dataframe tbody tr th {\n",
       "        vertical-align: top;\n",
       "    }\n",
       "\n",
       "    .dataframe thead th {\n",
       "        text-align: right;\n",
       "    }\n",
       "</style>\n",
       "<table border=\"1\" class=\"dataframe\">\n",
       "  <thead>\n",
       "    <tr style=\"text-align: right;\">\n",
       "      <th></th>\n",
       "      <th>Open</th>\n",
       "      <th>High</th>\n",
       "      <th>Low</th>\n",
       "      <th>Close</th>\n",
       "      <th>Adj Close</th>\n",
       "      <th>Volume</th>\n",
       "    </tr>\n",
       "    <tr>\n",
       "      <th>Date</th>\n",
       "      <th></th>\n",
       "      <th></th>\n",
       "      <th></th>\n",
       "      <th></th>\n",
       "      <th></th>\n",
       "      <th></th>\n",
       "    </tr>\n",
       "  </thead>\n",
       "  <tbody>\n",
       "    <tr>\n",
       "      <th>2010-08-17</th>\n",
       "      <td>8.931429</td>\n",
       "      <td>9.093929</td>\n",
       "      <td>8.900000</td>\n",
       "      <td>8.998929</td>\n",
       "      <td>7.638261</td>\n",
       "      <td>422640400</td>\n",
       "    </tr>\n",
       "    <tr>\n",
       "      <th>2010-08-18</th>\n",
       "      <td>9.012857</td>\n",
       "      <td>9.095357</td>\n",
       "      <td>8.985000</td>\n",
       "      <td>9.038214</td>\n",
       "      <td>7.671606</td>\n",
       "      <td>339696000</td>\n",
       "    </tr>\n",
       "    <tr>\n",
       "      <th>2010-08-19</th>\n",
       "      <td>9.030000</td>\n",
       "      <td>9.052857</td>\n",
       "      <td>8.881429</td>\n",
       "      <td>8.924286</td>\n",
       "      <td>7.574904</td>\n",
       "      <td>426706000</td>\n",
       "    </tr>\n",
       "    <tr>\n",
       "      <th>2010-08-20</th>\n",
       "      <td>8.906786</td>\n",
       "      <td>9.068571</td>\n",
       "      <td>8.892857</td>\n",
       "      <td>8.915714</td>\n",
       "      <td>7.567627</td>\n",
       "      <td>384230000</td>\n",
       "    </tr>\n",
       "    <tr>\n",
       "      <th>2010-08-23</th>\n",
       "      <td>8.992500</td>\n",
       "      <td>9.000000</td>\n",
       "      <td>8.758929</td>\n",
       "      <td>8.778571</td>\n",
       "      <td>7.451218</td>\n",
       "      <td>414041600</td>\n",
       "    </tr>\n",
       "  </tbody>\n",
       "</table>\n",
       "</div>"
      ],
      "text/plain": [
       "                Open      High       Low     Close  Adj Close     Volume\n",
       "Date                                                                    \n",
       "2010-08-17  8.931429  9.093929  8.900000  8.998929   7.638261  422640400\n",
       "2010-08-18  9.012857  9.095357  8.985000  9.038214   7.671606  339696000\n",
       "2010-08-19  9.030000  9.052857  8.881429  8.924286   7.574904  426706000\n",
       "2010-08-20  8.906786  9.068571  8.892857  8.915714   7.567627  384230000\n",
       "2010-08-23  8.992500  9.000000  8.758929  8.778571   7.451218  414041600"
      ]
     },
     "execution_count": 2,
     "metadata": {},
     "output_type": "execute_result"
    }
   ],
   "source": [
    "#pick stock and read data, datasets downloaded from yahoo finance\n",
    "stock = 'AAPL' # E.g. TSLA, MSFT, AAPL...\n",
    "df = pd.read_csv(stock +'.csv', index_col = 'Date',\n",
    "                       parse_dates=True)\n",
    "\n",
    "df.head()"
   ]
  },
  {
   "cell_type": "code",
   "execution_count": 3,
   "id": "80e5c912-0f3a-43cb-a5b8-9ccc6fe1ee2c",
   "metadata": {},
   "outputs": [
    {
     "data": {
      "image/png": "[encoded data removed]",
      "text/plain": [
       "<Figure size 640x480 with 1 Axes>"
      ]
     },
     "metadata": {},
     "output_type": "display_data"
    }
   ],
   "source": [
    "#Visualising data\n",
    "fig = plt.figure()\n",
    "\n",
    "#Plot price at close\n",
    "ax1 = fig.add_subplot(211, xlabel ='Number of days', ylabel='Price of stock in $')\n",
    "df['Close'].plot(ax=ax1, color='r', lw=2, label = 'Price at close')\n",
    "ax1.legend()\n",
    "\n",
    "# Plot returns\n",
    "#ax2 = fig.add_subplot(212, ylabel='Returns $')\n",
    "#ax2.plot(df.index[199:], out, lw=1.0)\n",
    "\n",
    "\n",
    "plt.tight_layout()\n",
    "plt.show()"
   ]
  },
  {
   "cell_type": "code",
   "execution_count": 4,
   "id": "36b579c3-4a9e-419a-a810-112d8e55f153",
   "metadata": {},
   "outputs": [],
   "source": [
    "#create 'sliding window' of data. Lag = how far in the future we want to predict\n",
    "\n",
    "\n",
    "lag = 7\n",
    "\n",
    "def sliding_window(time_series, lag):\n",
    "    L = len(time_series)\n",
    "    X = np.zeros((L-lag, lag))\n",
    "    Y = np.zeros((L-lag,1))\n",
    "\n",
    "    i = 0\n",
    "    while lag + i < L:\n",
    "        X[i,:] = time_series[i:lag+i]\n",
    "        Y[i] = time_series[lag+i]\n",
    "        i+=1\n",
    "        \n",
    "    return X, Y\n",
    "\n",
    "\n",
    "\n",
    "    "
   ]
  },
  {
   "cell_type": "code",
   "execution_count": 5,
   "id": "c7ff34bc-f00e-4bb8-9f8a-20d412d44746",
   "metadata": {},
   "outputs": [],
   "source": [
    "#Splitting data\n",
    "\n",
    "train_size = int(len(df) * 0.8)\n",
    "\n",
    "\n",
    "time_series_train = df.Close[:train_size].values\n",
    "time_train = df.Close[:train_size].index\n",
    "\n",
    "time_series_test = df.Close[train_size:].values\n",
    "time_test = df.Close[train_size:].index\n",
    "\n",
    "\n",
    "\n",
    "# Normalising data\n",
    "mean_train = np.mean(time_series_train)\n",
    "sd_train = np.std(time_series_train)\n",
    "time_series_train = (time_series_train-mean_train)/sd_train\n",
    "time_series_test = (time_series_test-mean_train)/sd_train\n",
    "\n",
    "\n",
    "x_train, y_train = sliding_window(time_series_train,lag)\n",
    "x_test, y_test = sliding_window(time_series_test,lag)"
   ]
  },
  {
   "cell_type": "code",
   "execution_count": 6,
   "id": "a6a71f26-49c0-4e13-bd90-faff0bbbb6ac",
   "metadata": {},
   "outputs": [
    {
     "name": "stdout",
     "output_type": "stream",
     "text": [
      "(7, 50)\n",
      "(50,)\n"
     ]
    }
   ],
   "source": [
    "# Generating weights and biases (normally distributed)\n",
    "number_hidden_neurons = 50\n",
    "\n",
    "input_weights = np.random.normal(0, 1, size=(lag, number_hidden_neurons))\n",
    "print(np.shape(input_weights))\n",
    "\n",
    "biases = np.random.normal(0, 1, size=(number_hidden_neurons))\n",
    "print(np.shape(biases))\n",
    "\n",
    "# Activation function\n",
    "def activation(x):     \n",
    "    return np.relu(x"
   ]
  },
  {
   "cell_type": "code",
   "execution_count": 7,
   "id": "63cbd2dc-459d-4dc9-a159-26ff2987cb4d",
   "metadata": {},
   "outputs": [],
   "source": [
    "# fitting\n",
    "def fit(x):\n",
    "    G = np.dot(x, input_weights) + biases\n",
    "    H = activation(G)\n",
    "    return H\n",
    "\n",
    "# ELM formula tells us that y = B H implies B = H^-1 y\n",
    "output_weights = np.dot(pinv(fit(x_train)), y_train)\n",
    "\n",
    "# Prediction\n",
    "def predict(x):\n",
    "    out = np.dot(fit(x), output_weights)\n",
    "    return out\n",
    "\n",
    "prediction = predict(x_test)\n",
    "\n",
    "#renormalise outputs\n",
    "prediction = (prediction*sd_train) + mean_train"
   ]
  },
  {
   "cell_type": "code",
   "execution_count": 8,
   "id": "ae3bc700-4ac9-4007-8f7c-bc557cdb4f3e",
   "metadata": {},
   "outputs": [
    {
     "data": {
      "image/png": "[encoded data removed]",
      "text/plain": [
       "<Figure size 640x480 with 1 Axes>"
      ]
     },
     "metadata": {},
     "output_type": "display_data"
    }
   ],
   "source": [
    "fig = plt.figure()\n",
    "\n",
    "\n",
    "#Plot price at close\n",
    "ax1 = fig.add_subplot(211, xlabel ='Number of days', ylabel='Price of stock in $')\n",
    "df['Close'].plot(ax=ax1, color='r', lw=2, label = 'Price at close')\n",
    "\n",
    "# Plot predictions\n",
    "ax1.plot(time_test[lag:], prediction, lw=1.0, label = 'Predicted Price at Close')\n",
    "ax1.legend()\n",
    "\n",
    "plt.tight_layout()\n",
    "plt.show()"
   ]
  },
  {
   "cell_type": "code",
   "execution_count": 9,
   "id": "2157f170-221f-471b-bf18-cdd37985874b",
   "metadata": {},
   "outputs": [
    {
     "name": "stdout",
     "output_type": "stream",
     "text": [
      "Test RMSE: 11.87\n"
     ]
    }
   ],
   "source": [
    "\n",
    "y_test = (y_test*sd_train) + mean_train\n",
    "\n",
    "# RMSE\n",
    "rmse = math.sqrt(mean_squared_error(y_test, prediction))\n",
    "print('Test RMSE: %.2f' % rmse)"
   ]
  }
 ],
 "metadata": {
  "kernelspec": {
   "display_name": "Python 3 (ipykernel)",
   "language": "python",
   "name": "python3"
  },
  "language_info": {
   "codemirror_mode": {
    "name": "ipython",
    "version": 3
   },
   "file_extension": ".py",
   "mimetype": "text/x-python",
   "name": "python",
   "nbconvert_exporter": "python",
   "pygments_lexer": "ipython3",
   "version": "3.11.5"
  }
 },
 "nbformat": 4,
 "nbformat_minor": 5
}
